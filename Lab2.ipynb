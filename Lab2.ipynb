{
 "cells": [
  {
   "cell_type": "markdown",
   "metadata": {},
   "source": [
    "Лабораторная роабота № 4\n",
    "\n",
    "выполнил: Латыпов Альберт\n",
    "\n",
    "Задание:\n",
    "\n",
    "1.  На датасете 1 построить кривые обучения training score, cv score для двух различных алгоритмов. Сравнить и сделать выводы.\n",
    "2.  На датасете 2 реализовать gridsearch для 2 параметров. Построить heatmap."
   ]
  },
  {
   "cell_type": "code",
   "execution_count": 176,
   "metadata": {},
   "outputs": [],
   "source": [
    "import pandas as pd\n",
    "import numpy as np\n",
    "import sklearn"
   ]
  },
  {
   "cell_type": "markdown",
   "metadata": {},
   "source": [
    "# Задание 1:"
   ]
  },
  {
   "cell_type": "code",
   "execution_count": 177,
   "metadata": {},
   "outputs": [],
   "source": [
    "df = pd.read_csv('https://archive.ics.uci.edu/ml/machine-learning-databases/zoo/zoo.data',\n",
    "                 names=col_names)"
   ]
  },
  {
   "cell_type": "markdown",
   "metadata": {},
   "source": [
    "Первый датасет представляет собой выборку из 101 объекта. Каждый объект - определенное животное: антилопа, медведь, паук и др. Объясняющие переменные - характеристики животного: ядовито ли? сколько ног имеет? летает ли? и тд. Целевая переменная - один из семи классов к которому животное относится:"
   ]
  },
  {
   "cell_type": "markdown",
   "metadata": {},
   "source": [
    "Class-- Set of animals:\n",
    "===== =====================================================\n",
    "1 -- (41) aardvark, antelope, bear, boar, buffalo, calf, cavy, cheetah, deer, dolphin, elephant, fruitbat, giraffe, girl, goat, gorilla, hamster, hare, leopard, lion, lynx, mink, mole, mongoose, opossum, oryx, platypus, polecat, pony, porpoise, puma, pussycat, raccoon, reindeer, seal, sealion, squirrel, vampire, vole, wallaby,wolf\n",
    "2 -- (20) chicken, crow, dove, duck, flamingo, gull, hawk, kiwi, lark, ostrich, parakeet, penguin, pheasant, rhea, skimmer, skua, sparrow, swan, vulture, wren\n",
    "3 -- (5) pitviper, seasnake, slowworm, tortoise, tuatara\n",
    "4 -- (13) bass, carp, catfish, chub, dogfish, haddock, herring, pike, piranha, seahorse, sole, stingray, tuna\n",
    "5 -- (4) frog, frog, newt, toad\n",
    "6 -- (8) flea, gnat, honeybee, housefly, ladybird, moth, termite, wasp\n",
    "7 -- (10) clam, crab, crayfish, lobster, octopus, scorpion, seawasp, slug, starfish, worm"
   ]
  },
  {
   "cell_type": "code",
   "execution_count": 15,
   "metadata": {},
   "outputs": [],
   "source": [
    "col_names = ['1. animal name: Unique for each instance',\n",
    "'2. hair: Boolean',\n",
    "'3. feathers: Boolean',\n",
    "'4. eggs: Boolean',\n",
    "'5. milk: Boolean',\n",
    "'6. airborne: Boolean',\n",
    "'7. aquatic: Boolean',\n",
    "'8. predator: Boolean',\n",
    "'9. toothed: Boolean',\n",
    "'10. backbone: Boolean',\n",
    "'11. breathes: Boolean',\n",
    "'12. venomous: Boolean',\n",
    "'13. fins: Boolean',\n",
    "'14. legs: Numeric (set of values: {0,2,4,5,6,8})',\n",
    "'15. tail: Boolean',\n",
    "'16. domestic: Boolean',\n",
    "'17. catsize: Boolean',\n",
    "'18. type: Numeric (integer values in range [1,7])']"
   ]
  },
  {
   "cell_type": "code",
   "execution_count": 178,
   "metadata": {
    "scrolled": false
   },
   "outputs": [
    {
     "data": {
      "text/html": [
       "<div>\n",
       "<style scoped>\n",
       "    .dataframe tbody tr th:only-of-type {\n",
       "        vertical-align: middle;\n",
       "    }\n",
       "\n",
       "    .dataframe tbody tr th {\n",
       "        vertical-align: top;\n",
       "    }\n",
       "\n",
       "    .dataframe thead th {\n",
       "        text-align: right;\n",
       "    }\n",
       "</style>\n",
       "<table border=\"1\" class=\"dataframe\">\n",
       "  <thead>\n",
       "    <tr style=\"text-align: right;\">\n",
       "      <th></th>\n",
       "      <th>1. animal name: Unique for each instance</th>\n",
       "      <th>2. hair: Boolean</th>\n",
       "      <th>3. feathers: Boolean</th>\n",
       "      <th>4. eggs: Boolean</th>\n",
       "      <th>5. milk: Boolean</th>\n",
       "      <th>6. airborne: Boolean</th>\n",
       "      <th>7. aquatic: Boolean</th>\n",
       "      <th>8. predator: Boolean</th>\n",
       "      <th>9. toothed: Boolean</th>\n",
       "      <th>10. backbone: Boolean</th>\n",
       "      <th>11. breathes: Boolean</th>\n",
       "      <th>12. venomous: Boolean</th>\n",
       "      <th>13. fins: Boolean</th>\n",
       "      <th>14. legs: Numeric (set of values: {0,2,4,5,6,8})</th>\n",
       "      <th>15. tail: Boolean</th>\n",
       "      <th>16. domestic: Boolean</th>\n",
       "      <th>17. catsize: Boolean</th>\n",
       "      <th>18. type: Numeric (integer values in range [1,7])</th>\n",
       "    </tr>\n",
       "  </thead>\n",
       "  <tbody>\n",
       "    <tr>\n",
       "      <th>0</th>\n",
       "      <td>aardvark</td>\n",
       "      <td>1</td>\n",
       "      <td>0</td>\n",
       "      <td>0</td>\n",
       "      <td>1</td>\n",
       "      <td>0</td>\n",
       "      <td>0</td>\n",
       "      <td>1</td>\n",
       "      <td>1</td>\n",
       "      <td>1</td>\n",
       "      <td>1</td>\n",
       "      <td>0</td>\n",
       "      <td>0</td>\n",
       "      <td>4</td>\n",
       "      <td>0</td>\n",
       "      <td>0</td>\n",
       "      <td>1</td>\n",
       "      <td>1</td>\n",
       "    </tr>\n",
       "    <tr>\n",
       "      <th>1</th>\n",
       "      <td>antelope</td>\n",
       "      <td>1</td>\n",
       "      <td>0</td>\n",
       "      <td>0</td>\n",
       "      <td>1</td>\n",
       "      <td>0</td>\n",
       "      <td>0</td>\n",
       "      <td>0</td>\n",
       "      <td>1</td>\n",
       "      <td>1</td>\n",
       "      <td>1</td>\n",
       "      <td>0</td>\n",
       "      <td>0</td>\n",
       "      <td>4</td>\n",
       "      <td>1</td>\n",
       "      <td>0</td>\n",
       "      <td>1</td>\n",
       "      <td>1</td>\n",
       "    </tr>\n",
       "    <tr>\n",
       "      <th>2</th>\n",
       "      <td>bass</td>\n",
       "      <td>0</td>\n",
       "      <td>0</td>\n",
       "      <td>1</td>\n",
       "      <td>0</td>\n",
       "      <td>0</td>\n",
       "      <td>1</td>\n",
       "      <td>1</td>\n",
       "      <td>1</td>\n",
       "      <td>1</td>\n",
       "      <td>0</td>\n",
       "      <td>0</td>\n",
       "      <td>1</td>\n",
       "      <td>0</td>\n",
       "      <td>1</td>\n",
       "      <td>0</td>\n",
       "      <td>0</td>\n",
       "      <td>4</td>\n",
       "    </tr>\n",
       "    <tr>\n",
       "      <th>3</th>\n",
       "      <td>bear</td>\n",
       "      <td>1</td>\n",
       "      <td>0</td>\n",
       "      <td>0</td>\n",
       "      <td>1</td>\n",
       "      <td>0</td>\n",
       "      <td>0</td>\n",
       "      <td>1</td>\n",
       "      <td>1</td>\n",
       "      <td>1</td>\n",
       "      <td>1</td>\n",
       "      <td>0</td>\n",
       "      <td>0</td>\n",
       "      <td>4</td>\n",
       "      <td>0</td>\n",
       "      <td>0</td>\n",
       "      <td>1</td>\n",
       "      <td>1</td>\n",
       "    </tr>\n",
       "    <tr>\n",
       "      <th>4</th>\n",
       "      <td>boar</td>\n",
       "      <td>1</td>\n",
       "      <td>0</td>\n",
       "      <td>0</td>\n",
       "      <td>1</td>\n",
       "      <td>0</td>\n",
       "      <td>0</td>\n",
       "      <td>1</td>\n",
       "      <td>1</td>\n",
       "      <td>1</td>\n",
       "      <td>1</td>\n",
       "      <td>0</td>\n",
       "      <td>0</td>\n",
       "      <td>4</td>\n",
       "      <td>1</td>\n",
       "      <td>0</td>\n",
       "      <td>1</td>\n",
       "      <td>1</td>\n",
       "    </tr>\n",
       "  </tbody>\n",
       "</table>\n",
       "</div>"
      ],
      "text/plain": [
       "  1. animal name: Unique for each instance  2. hair: Boolean  \\\n",
       "0                                 aardvark                 1   \n",
       "1                                 antelope                 1   \n",
       "2                                     bass                 0   \n",
       "3                                     bear                 1   \n",
       "4                                     boar                 1   \n",
       "\n",
       "   3. feathers: Boolean  4. eggs: Boolean  5. milk: Boolean  \\\n",
       "0                     0                 0                 1   \n",
       "1                     0                 0                 1   \n",
       "2                     0                 1                 0   \n",
       "3                     0                 0                 1   \n",
       "4                     0                 0                 1   \n",
       "\n",
       "   6. airborne: Boolean  7. aquatic: Boolean  8. predator: Boolean  \\\n",
       "0                     0                    0                     1   \n",
       "1                     0                    0                     0   \n",
       "2                     0                    1                     1   \n",
       "3                     0                    0                     1   \n",
       "4                     0                    0                     1   \n",
       "\n",
       "   9. toothed: Boolean  10. backbone: Boolean  11. breathes: Boolean  \\\n",
       "0                    1                      1                      1   \n",
       "1                    1                      1                      1   \n",
       "2                    1                      1                      0   \n",
       "3                    1                      1                      1   \n",
       "4                    1                      1                      1   \n",
       "\n",
       "   12. venomous: Boolean  13. fins: Boolean  \\\n",
       "0                      0                  0   \n",
       "1                      0                  0   \n",
       "2                      0                  1   \n",
       "3                      0                  0   \n",
       "4                      0                  0   \n",
       "\n",
       "   14. legs: Numeric (set of values: {0,2,4,5,6,8})  15. tail: Boolean  \\\n",
       "0                                                 4                  0   \n",
       "1                                                 4                  1   \n",
       "2                                                 0                  1   \n",
       "3                                                 4                  0   \n",
       "4                                                 4                  1   \n",
       "\n",
       "   16. domestic: Boolean  17. catsize: Boolean  \\\n",
       "0                      0                     1   \n",
       "1                      0                     1   \n",
       "2                      0                     0   \n",
       "3                      0                     1   \n",
       "4                      0                     1   \n",
       "\n",
       "   18. type: Numeric (integer values in range [1,7])  \n",
       "0                                                  1  \n",
       "1                                                  1  \n",
       "2                                                  4  \n",
       "3                                                  1  \n",
       "4                                                  1  "
      ]
     },
     "execution_count": 178,
     "metadata": {},
     "output_type": "execute_result"
    }
   ],
   "source": [
    "df.head(5)"
   ]
  },
  {
   "cell_type": "code",
   "execution_count": 179,
   "metadata": {},
   "outputs": [],
   "source": [
    "df.drop(['1. animal name: Unique for each instance'],axis =1, inplace=True)"
   ]
  },
  {
   "cell_type": "code",
   "execution_count": 180,
   "metadata": {},
   "outputs": [],
   "source": [
    "y = df['18. type: Numeric (integer values in range [1,7])']\n",
    "X = df.drop(['18. type: Numeric (integer values in range [1,7])'],axis =1)"
   ]
  },
  {
   "cell_type": "code",
   "execution_count": 181,
   "metadata": {},
   "outputs": [],
   "source": [
    "from sklearn import *\n",
    "X_tr, X_ts, y_tr, y_ts = sklearn.model_selection.train_test_split(X, y, test_size=.3, random_state=42)"
   ]
  },
  {
   "cell_type": "code",
   "execution_count": 182,
   "metadata": {},
   "outputs": [],
   "source": [
    "# Обучим на разделенной выборке классификатор Случайный лес, задав 100 деревьев, с макисмальной глубиной 2\n",
    "rfc = sklearn.ensemble.RandomForestClassifier(n_estimators=100, max_depth=2,\n",
    "                              random_state=0)"
   ]
  },
  {
   "cell_type": "code",
   "execution_count": 184,
   "metadata": {},
   "outputs": [
    {
     "data": {
      "text/plain": [
       "RandomForestClassifier(bootstrap=True, class_weight=None, criterion='gini',\n",
       "            max_depth=2, max_features='auto', max_leaf_nodes=None,\n",
       "            min_impurity_decrease=0.0, min_impurity_split=None,\n",
       "            min_samples_leaf=1, min_samples_split=2,\n",
       "            min_weight_fraction_leaf=0.0, n_estimators=100, n_jobs=None,\n",
       "            oob_score=False, random_state=0, verbose=0, warm_start=False)"
      ]
     },
     "execution_count": 184,
     "metadata": {},
     "output_type": "execute_result"
    }
   ],
   "source": [
    "rfc.fit(X_tr, y_tr)"
   ]
  },
  {
   "cell_type": "code",
   "execution_count": 60,
   "metadata": {},
   "outputs": [
    {
     "data": {
      "text/plain": [
       "array([1, 1, 1, 1, 1, 6, 1, 1, 1, 1, 4, 2, 6, 2, 7, 1, 1, 2, 4, 1, 4, 4,\n",
       "       4, 2, 1, 7, 6, 1, 1, 1, 2], dtype=int64)"
      ]
     },
     "execution_count": 60,
     "metadata": {},
     "output_type": "execute_result"
    }
   ],
   "source": [
    "rfc.predict(X_ts)"
   ]
  },
  {
   "cell_type": "code",
   "execution_count": 185,
   "metadata": {},
   "outputs": [
    {
     "data": {
      "text/plain": [
       "0.8064516129032258"
      ]
     },
     "execution_count": 185,
     "metadata": {},
     "output_type": "execute_result"
    }
   ],
   "source": [
    "# Получили вот такую точность:\n",
    "rfc.score(X_ts, y_ts)"
   ]
  },
  {
   "cell_type": "code",
   "execution_count": 186,
   "metadata": {},
   "outputs": [
    {
     "name": "stderr",
     "output_type": "stream",
     "text": [
      "c:\\users\\альберт\\appdata\\local\\programs\\python\\python37\\lib\\site-packages\\sklearn\\model_selection\\_split.py:652: Warning: The least populated class in y has only 4 members, which is too few. The minimum number of members in any class cannot be less than n_splits=10.\n",
      "  % (min_groups, self.n_splits)), Warning)\n"
     ]
    }
   ],
   "source": [
    "# Теперь, воспользуемся кросс-валидацией и построим график точности модели в зависимости от размера тренировочной выборки:\n",
    "train_sizes, train_scores, test_scores = sklearn.model_selection.learning_curve(estimator = rfc, X=X,\n",
    "                                                        y=y, cv=10, train_sizes=np.linspace(.1, 1.0, 40))"
   ]
  },
  {
   "cell_type": "code",
   "execution_count": 187,
   "metadata": {},
   "outputs": [
    {
     "name": "stderr",
     "output_type": "stream",
     "text": [
      "c:\\users\\альберт\\appdata\\local\\programs\\python\\python37\\lib\\site-packages\\matplotlib\\axes\\_base.py:3449: MatplotlibDeprecationWarning: \n",
      "The `ymin` argument was deprecated in Matplotlib 3.0 and will be removed in 3.2. Use `bottom` instead.\n",
      "  alternative='`bottom`', obj_type='argument')\n"
     ]
    },
    {
     "data": {
      "image/png": "[encoded data removed]",
      "text/plain": [
       "<Figure size 960x640 with 1 Axes>"
      ]
     },
     "metadata": {},
     "output_type": "display_data"
    }
   ],
   "source": [
    "import matplotlib.pyplot as plt\n",
    "plt.figure(figsize=(12, 8), dpi= 80, facecolor='w', edgecolor='k')\n",
    "plt.plot(train_sizes, np.mean(train_scores, axis=1), 'o-', color=\"r\",\n",
    "\n",
    "label=\"Training score\")\n",
    "\n",
    "plt.plot(train_sizes, np.mean(test_scores, axis=1), 'o-', color=\"g\",\n",
    "\n",
    "label=\"Cross-validation score\")\n",
    "\n",
    "plt.grid(color='grey', linestyle='-', linewidth=0.5)\n",
    "plt.title('Learning curves for RandomForestClassifier', fontsize=16)\n",
    "plt.xlabel('Train size', fontsize=16)\n",
    "plt.ylabel('Accuracy', fontsize=16)\n",
    "plt.ylim(ymin=0.65)\n",
    "plt.legend(fontsize=16)\n",
    "plt.show()"
   ]
  },
  {
   "cell_type": "code",
   "execution_count": 188,
   "metadata": {},
   "outputs": [
    {
     "data": {
      "text/plain": [
       "GaussianNB(priors=None, var_smoothing=1e-09)"
      ]
     },
     "execution_count": 188,
     "metadata": {},
     "output_type": "execute_result"
    }
   ],
   "source": [
    "# Проделаем аналогичные действия для Наивного байесовского классификатора со чтандартными параметрами:\n",
    "from sklearn.naive_bayes import GaussianNB\n",
    "nb = sklearn.naive_bayes.GaussianNB()\n",
    "nb.fit(X_tr, y_tr)"
   ]
  },
  {
   "cell_type": "code",
   "execution_count": 189,
   "metadata": {},
   "outputs": [
    {
     "data": {
      "text/plain": [
       "0.9354838709677419"
      ]
     },
     "execution_count": 189,
     "metadata": {},
     "output_type": "execute_result"
    }
   ],
   "source": [
    "# точность:\n",
    "nb.score(X_ts, y_ts)"
   ]
  },
  {
   "cell_type": "code",
   "execution_count": 190,
   "metadata": {},
   "outputs": [
    {
     "data": {
      "text/plain": [
       "array([1, 1, 1, 1, 1, 6, 1, 1, 1, 1, 4, 6, 6, 2, 7, 1, 1, 2, 4, 1, 4, 5,\n",
       "       5, 6, 1, 7, 6, 3, 1, 1, 2], dtype=int64)"
      ]
     },
     "execution_count": 190,
     "metadata": {},
     "output_type": "execute_result"
    }
   ],
   "source": [
    "nb.predict(X_ts)"
   ]
  },
  {
   "cell_type": "code",
   "execution_count": 191,
   "metadata": {},
   "outputs": [
    {
     "name": "stderr",
     "output_type": "stream",
     "text": [
      "c:\\users\\альберт\\appdata\\local\\programs\\python\\python37\\lib\\site-packages\\sklearn\\model_selection\\_split.py:652: Warning: The least populated class in y has only 4 members, which is too few. The minimum number of members in any class cannot be less than n_splits=10.\n",
      "  % (min_groups, self.n_splits)), Warning)\n"
     ]
    }
   ],
   "source": [
    "# кросс валидация:\n",
    "train_sizes, train_scores, test_scores = sklearn.model_selection.learning_curve(estimator = nb, X=X,\n",
    "                                                        y=y, cv=10, train_sizes=np.linspace(.1, 1.0, 40))"
   ]
  },
  {
   "cell_type": "code",
   "execution_count": 193,
   "metadata": {},
   "outputs": [
    {
     "data": {
      "image/png": "[encoded data removed]",
      "text/plain": [
       "<Figure size 960x640 with 1 Axes>"
      ]
     },
     "metadata": {},
     "output_type": "display_data"
    }
   ],
   "source": [
    "import matplotlib.pyplot as plt\n",
    "plt.figure(figsize=(12, 8), dpi= 80, facecolor='w', edgecolor='k')\n",
    "plt.plot(train_sizes, np.mean(train_scores, axis=1), 'o-', color=\"r\",\n",
    "\n",
    "label=\"Training score\")\n",
    "\n",
    "plt.plot(train_sizes, np.mean(test_scores, axis=1), 'o-', color=\"g\",\n",
    "\n",
    "label=\"Cross-validation score\")\n",
    "\n",
    "plt.grid(color='grey', linestyle='-', linewidth=0.5)\n",
    "plt.title('Learning curves for NaiveBayes', fontsize=16)\n",
    "plt.xlabel('Train size', fontsize=16)\n",
    "plt.ylabel('Accuracy', fontsize=16)\n",
    "plt.ylim(ymin=0.65)\n",
    "plt.legend(fontsize=16)\n",
    "plt.show()"
   ]
  },
  {
   "cell_type": "markdown",
   "metadata": {},
   "source": [
    "Выводы:\n",
    "    1. на графике для RandomForestClassifier приблизительный максимум точности на кросс-валидации достигается при размере тестовой выборки 15; далее, c увеличением размера выборки, точность улучшается незначительно. Кривые не плавные, а ломанные, т.е. точность алгоритма сильно скачет, это свидетельствует о маленькои размере общей выборки (всего 101 объект); может быть к этому так же ведет сильный дисбаланс в классах (1 - 41 объект, 3 - 5 объектов).\n",
    "   2. На графике для NaiveBayes оприблизительный максимум точности на кросс-валидации достигается при размере тестовой выборки 25. Точность выше, чем у RandomForestClassifier, значит, предположение, что данные независимы здесь подтверждается. Коридор не сужается к концу, в отличии от случайного леса. Кривая обучения строго единица. Честно, не знаю с чем это связанно, возможно особенность самого алгоритма."
   ]
  },
  {
   "cell_type": "markdown",
   "metadata": {},
   "source": [
    "\n",
    "# Задание 2:\n",
    "\n"
   ]
  },
  {
   "cell_type": "markdown",
   "metadata": {},
   "source": [
    "Второй датасет содержит информацию о качестве вина: плотность, кислотность, % алкоголя и др. Целевая переменная - качество вина, оценка от 1 до 10. Маштабируем данные и разобъем на тестовую и тренировочную:"
   ]
  },
  {
   "cell_type": "code",
   "execution_count": 294,
   "metadata": {},
   "outputs": [],
   "source": [
    "df2 = pd.read_csv('https://archive.ics.uci.edu/ml/machine-learning-databases/wine-quality/winequality-red.csv',sep=';')"
   ]
  },
  {
   "cell_type": "code",
   "execution_count": 90,
   "metadata": {},
   "outputs": [
    {
     "data": {
      "text/html": [
       "<div>\n",
       "<style scoped>\n",
       "    .dataframe tbody tr th:only-of-type {\n",
       "        vertical-align: middle;\n",
       "    }\n",
       "\n",
       "    .dataframe tbody tr th {\n",
       "        vertical-align: top;\n",
       "    }\n",
       "\n",
       "    .dataframe thead th {\n",
       "        text-align: right;\n",
       "    }\n",
       "</style>\n",
       "<table border=\"1\" class=\"dataframe\">\n",
       "  <thead>\n",
       "    <tr style=\"text-align: right;\">\n",
       "      <th></th>\n",
       "      <th>fixed acidity</th>\n",
       "      <th>volatile acidity</th>\n",
       "      <th>citric acid</th>\n",
       "      <th>residual sugar</th>\n",
       "      <th>chlorides</th>\n",
       "      <th>free sulfur dioxide</th>\n",
       "      <th>total sulfur dioxide</th>\n",
       "      <th>density</th>\n",
       "      <th>pH</th>\n",
       "      <th>sulphates</th>\n",
       "      <th>alcohol</th>\n",
       "      <th>quality</th>\n",
       "    </tr>\n",
       "  </thead>\n",
       "  <tbody>\n",
       "    <tr>\n",
       "      <th>0</th>\n",
       "      <td>7.4</td>\n",
       "      <td>0.70</td>\n",
       "      <td>0.00</td>\n",
       "      <td>1.9</td>\n",
       "      <td>0.076</td>\n",
       "      <td>11.0</td>\n",
       "      <td>34.0</td>\n",
       "      <td>0.9978</td>\n",
       "      <td>3.51</td>\n",
       "      <td>0.56</td>\n",
       "      <td>9.4</td>\n",
       "      <td>5</td>\n",
       "    </tr>\n",
       "    <tr>\n",
       "      <th>1</th>\n",
       "      <td>7.8</td>\n",
       "      <td>0.88</td>\n",
       "      <td>0.00</td>\n",
       "      <td>2.6</td>\n",
       "      <td>0.098</td>\n",
       "      <td>25.0</td>\n",
       "      <td>67.0</td>\n",
       "      <td>0.9968</td>\n",
       "      <td>3.20</td>\n",
       "      <td>0.68</td>\n",
       "      <td>9.8</td>\n",
       "      <td>5</td>\n",
       "    </tr>\n",
       "    <tr>\n",
       "      <th>2</th>\n",
       "      <td>7.8</td>\n",
       "      <td>0.76</td>\n",
       "      <td>0.04</td>\n",
       "      <td>2.3</td>\n",
       "      <td>0.092</td>\n",
       "      <td>15.0</td>\n",
       "      <td>54.0</td>\n",
       "      <td>0.9970</td>\n",
       "      <td>3.26</td>\n",
       "      <td>0.65</td>\n",
       "      <td>9.8</td>\n",
       "      <td>5</td>\n",
       "    </tr>\n",
       "  </tbody>\n",
       "</table>\n",
       "</div>"
      ],
      "text/plain": [
       "   fixed acidity  volatile acidity  citric acid  residual sugar  chlorides  \\\n",
       "0            7.4              0.70         0.00             1.9      0.076   \n",
       "1            7.8              0.88         0.00             2.6      0.098   \n",
       "2            7.8              0.76         0.04             2.3      0.092   \n",
       "\n",
       "   free sulfur dioxide  total sulfur dioxide  density    pH  sulphates  \\\n",
       "0                 11.0                  34.0   0.9978  3.51       0.56   \n",
       "1                 25.0                  67.0   0.9968  3.20       0.68   \n",
       "2                 15.0                  54.0   0.9970  3.26       0.65   \n",
       "\n",
       "   alcohol  quality  \n",
       "0      9.4        5  \n",
       "1      9.8        5  \n",
       "2      9.8        5  "
      ]
     },
     "execution_count": 90,
     "metadata": {},
     "output_type": "execute_result"
    }
   ],
   "source": [
    "df2.head(3)"
   ]
  },
  {
   "cell_type": "code",
   "execution_count": 238,
   "metadata": {},
   "outputs": [
    {
     "data": {
      "text/plain": [
       "(1599, 12)"
      ]
     },
     "execution_count": 238,
     "metadata": {},
     "output_type": "execute_result"
    }
   ],
   "source": [
    "#Всего 1599 сущностей и 11 характеристик\n",
    "df2.shape"
   ]
  },
  {
   "cell_type": "code",
   "execution_count": 295,
   "metadata": {},
   "outputs": [],
   "source": [
    "y = df2['quality']\n",
    "X = df2.drop(['quality'],axis=1)"
   ]
  },
  {
   "cell_type": "code",
   "execution_count": 296,
   "metadata": {},
   "outputs": [],
   "source": [
    "scaler = sklearn.preprocessing.StandardScaler()\n",
    "X = scaler.fit_transform(X)"
   ]
  },
  {
   "cell_type": "code",
   "execution_count": 297,
   "metadata": {},
   "outputs": [],
   "source": [
    "X_tr, X_ts, y_tr, y_ts = sklearn.model_selection.train_test_split (X, y, test_size=.3, random_state=42)"
   ]
  },
  {
   "cell_type": "code",
   "execution_count": 302,
   "metadata": {},
   "outputs": [
    {
     "data": {
      "text/plain": [
       "0.6354166666666666"
      ]
     },
     "execution_count": 302,
     "metadata": {},
     "output_type": "execute_result"
    }
   ],
   "source": [
    "KNC = sklearn.neighbors.KNeighborsClassifier(n_neighbors=5, weights='distance', p=2)\n",
    "KNC.fit(X_tr, y_tr)\n",
    "y_pred = KNC.predict(X_ts)\n",
    "KNC.score(X_ts, np.ravel(y_ts))\n",
    "# Точность без поиска по grid search"
   ]
  },
  {
   "cell_type": "code",
   "execution_count": 312,
   "metadata": {},
   "outputs": [
    {
     "data": {
      "text/plain": [
       "array([[  0,   0,   1,   0,   0,   0],\n",
       "       [  0,   1,   1,   1,   0,   0],\n",
       "       [  0,   7, 139,  47,   2,   0],\n",
       "       [  1,   9,  49, 128,  22,   1],\n",
       "       [  0,   0,   5,  24,  36,   4],\n",
       "       [  0,   0,   0,   0,   1,   1]], dtype=int64)"
      ]
     },
     "execution_count": 312,
     "metadata": {},
     "output_type": "execute_result"
    }
   ],
   "source": [
    "from sklearn.metrics import confusion_matrix , classification_report\n",
    "confusion_matrix(y_pred, np.ravel(y_ts))\n",
    "# так как в целевой переменной встречаются только значения 3,4,5,6,7,8, то матрица ошибок получилась 6 на 6:"
   ]
  },
  {
   "cell_type": "code",
   "execution_count": 311,
   "metadata": {},
   "outputs": [
    {
     "name": "stdout",
     "output_type": "stream",
     "text": [
      "              precision    recall  f1-score   support\n",
      "\n",
      "           3       0.00      0.00      0.00         1\n",
      "           4       0.06      0.33      0.10         3\n",
      "           5       0.71      0.71      0.71       195\n",
      "           6       0.64      0.61      0.62       210\n",
      "           7       0.59      0.52      0.55        69\n",
      "           8       0.17      0.50      0.25         2\n",
      "\n",
      "   micro avg       0.64      0.64      0.64       480\n",
      "   macro avg       0.36      0.45      0.37       480\n",
      "weighted avg       0.66      0.64      0.64       480\n",
      "\n"
     ]
    }
   ],
   "source": [
    "print(classification_report(y_pred, np.ravel(y_ts)))"
   ]
  },
  {
   "cell_type": "code",
   "execution_count": 243,
   "metadata": {
    "scrolled": true
   },
   "outputs": [
    {
     "name": "stderr",
     "output_type": "stream",
     "text": [
      "c:\\users\\альберт\\appdata\\local\\programs\\python\\python37\\lib\\site-packages\\sklearn\\model_selection\\_search.py:841: DeprecationWarning: The default of the `iid` parameter will change from True to False in version 0.22 and will be removed in 0.24. This will change numeric results when test-set sizes are unequal.\n",
      "  DeprecationWarning)\n"
     ]
    },
    {
     "data": {
      "text/plain": [
       "GridSearchCV(cv=5, error_score='raise-deprecating',\n",
       "       estimator=KNeighborsClassifier(algorithm='auto', leaf_size=30, metric='minkowski',\n",
       "           metric_params=None, n_jobs=None, n_neighbors=5, p=2,\n",
       "           weights='distance'),\n",
       "       fit_params=None, iid='warn', n_jobs=None,\n",
       "       param_grid={'n_neighbors': [1, 2, 3, 4, 5, 6, 7, 8, 9, 10], 'p': [1, 2, 3, 4, 5, 6, 7, 8, 9, 10]},\n",
       "       pre_dispatch='2*n_jobs', refit=True, return_train_score='warn',\n",
       "       scoring=None, verbose=0)"
      ]
     },
     "execution_count": 243,
     "metadata": {},
     "output_type": "execute_result"
    }
   ],
   "source": [
    "# Определим лучшие из параметров: n_neighbours - кол во соседей (от 1 до 10), p- параметр, определяющий метрику( от 1 до 10)\n",
    "from sklearn.model_selection import GridSearchCV\n",
    "parameters = {'n_neighbors':[x for x in range(1,11)], \n",
    "              'p':[x for x in range(1,11)]}\n",
    "KNC = sklearn.neighbors.KNeighborsClassifier( weights='distance' )\n",
    "clf = GridSearchCV(KNC, parameters, cv=5)\n",
    "clf.fit(X,y)"
   ]
  },
  {
   "cell_type": "code",
   "execution_count": 263,
   "metadata": {},
   "outputs": [
    {
     "data": {
      "text/plain": [
       "{'n_neighbors': 8, 'p': 6}"
      ]
     },
     "execution_count": 263,
     "metadata": {},
     "output_type": "execute_result"
    }
   ],
   "source": [
    "clf.best_params_"
   ]
  },
  {
   "cell_type": "code",
   "execution_count": 306,
   "metadata": {},
   "outputs": [
    {
     "data": {
      "image/png": "[encoded data removed]",
      "text/plain": [
       "<Figure size 576x576 with 1 Axes>"
      ]
     },
     "metadata": {
      "needs_background": "light"
     },
     "output_type": "display_data"
    }
   ],
   "source": [
    "\n",
    "result_scores = clf.cv_results_['mean_test_score'].reshape(10,10)\n",
    "\n",
    "plt.figure(figsize=(8, 8))\n",
    "plt.imshow(result_scores, interpolation='nearest', cmap=plt.cm.hot)\n",
    "plt.title('Validation accuracy')\n",
    " \n",
    "\n",
    "plt.xlabel('p')\n",
    "plt.ylabel('n_neighbours')\n",
    "plt.show()\n",
    "\n",
    "# шкалы смещены на -1 :"
   ]
  },
  {
   "cell_type": "code",
   "execution_count": 310,
   "metadata": {},
   "outputs": [
    {
     "name": "stdout",
     "output_type": "stream",
     "text": [
      "0.6416666666666667\n"
     ]
    }
   ],
   "source": [
    "KNC_best = sklearn.neighbors.KNeighborsClassifier( n_neighbors=8, p=6, weights='distance' )\n",
    "KNC_best.fit(X_tr, y_tr)\n",
    "# Итоговый результат для тестовой выборки после поиска наилучших параметров:\n",
    "print(KNC_best.score(X_ts,y_ts))"
   ]
  },
  {
   "cell_type": "markdown",
   "metadata": {},
   "source": [
    "Вывод: для классификации качества вина был выбран метод ближайших соседей. Классификатор был обучен на стандартных параметрах:\n",
    "n_neighbors=5  - количество соседей; weights='distance' - вес соседа, определяется, как 1/ расстояние; p=2 - евклидова метрика.\n",
    "\n",
    "После была составлена сетка параметров n_neighbors, p. Вариантов, при которых классификатор выдает лучший результат, было несколько, один из них: {'n_neighbors': 8, 'p': 6}. \n",
    "\n",
    "Алгоритм улучшил работу на 0.05. В целом точность низкая, что свидетельствует о том, что данный алгоритм плохо работает на предложенном датасете."
   ]
  }
 ],
 "metadata": {
  "kernelspec": {
   "display_name": "Python 3",
   "language": "python",
   "name": "python3"
  },
  "language_info": {
   "codemirror_mode": {
    "name": "ipython",
    "version": 3
   },
   "file_extension": ".py",
   "mimetype": "text/x-python",
   "name": "python",
   "nbconvert_exporter": "python",
   "pygments_lexer": "ipython3",
   "version": "3.7.0"
  }
 },
 "nbformat": 4,
 "nbformat_minor": 2
}
