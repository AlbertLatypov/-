{
 "cells": [
  {
   "cell_type": "markdown",
   "metadata": {},
   "source": [
    "# Лабораторная работа #5"
   ]
  },
  {
   "cell_type": "markdown",
   "metadata": {},
   "source": [
    "Выполнил: Латыпов Альберт"
   ]
  },
  {
   "cell_type": "markdown",
   "metadata": {},
   "source": [
    "Реализовать модель классификации на основе\n",
    "бэггинга (BaggingClassifier). Определить\n",
    "оптимальное количество базовых моделей.\n",
    "Сравнить полученные результаты с моделью\n",
    "бустинга (Ada-, Gradient- или XGBoost).\n",
    "\n",
    "Для датасета breast_cancer найти наилучший\n",
    "алгоритм кластеризации, согласующийся с ground\n",
    "truth (максимизировать supervised метрики путем\n",
    "выбора алгоритма кластеризации и подбора его\n",
    "параметров)."
   ]
  },
  {
   "cell_type": "markdown",
   "metadata": {},
   "source": [
    "# BaggingClassifier"
   ]
  },
  {
   "cell_type": "markdown",
   "metadata": {},
   "source": [
    "Описание датасета: https://archive.ics.uci.edu/ml/datasets/Human+Activity+Recognition+Using+Smartphones\n",
    "    Samsung Human Activity Recognition. Данные поступают с акселерометров и гироскопов мобильных телефонов (всего: 561 объясняющих переменных) Samsung Galaxy S3 (подробнее про признаки – по ссылке на UCI выше). Целевая переменная: вид активности человека с телефоном в кармане – ходил ли он (1), стоял(2), лежал(3), сидел(4) или шел вверх/вниз по лестнице(5,6)."
   ]
  },
  {
   "cell_type": "markdown",
   "metadata": {},
   "source": [
    "Каждый признак - это  какие-то показания с акселерометров и гироскопов в телефонах объектов, например первые три колонки означают ускорение тела по осям x,y,z. Всего возьмем 1000 объектов."
   ]
  },
  {
   "cell_type": "code",
   "execution_count": 6,
   "metadata": {},
   "outputs": [],
   "source": [
    "import pandas as pd\n",
    "import numpy as np\n",
    "from sklearn import *\n",
    "\n",
    "X_train = pd.DataFrame(np.loadtxt(\"C:/Users/Альберт/Desktop/ML/Открытый курс по машинному обучению/samsung_HAR/samsung_train.txt\"))\n",
    "y_train = pd.DataFrame(np.loadtxt(\"C:/Users/Альберт/Desktop/ML/Открытый курс по машинному обучению/samsung_HAR/samsung_train_labels.txt\").astype(int))\n",
    "\n",
    "X_test = pd.DataFrame(np.loadtxt(\"C:/Users/Альберт/Desktop/ML/Открытый курс по машинному обучению/samsung_HAR/samsung_test.txt\"))\n",
    "y_test = pd.DataFrame(np.loadtxt(\"C:/Users/Альберт/Desktop/ML/Открытый курс по машинному обучению/samsung_HAR//samsung_test_labels.txt\").astype(int))"
   ]
  },
  {
   "cell_type": "code",
   "execution_count": 7,
   "metadata": {},
   "outputs": [],
   "source": [
    "X = pd.concat([X_train, X_test],axis=0, ignore_index=True)\n",
    "y = pd.concat([y_train, y_test],axis=0, ignore_index=True)"
   ]
  },
  {
   "cell_type": "code",
   "execution_count": 8,
   "metadata": {},
   "outputs": [
    {
     "data": {
      "text/html": [
       "<div>\n",
       "<style scoped>\n",
       "    .dataframe tbody tr th:only-of-type {\n",
       "        vertical-align: middle;\n",
       "    }\n",
       "\n",
       "    .dataframe tbody tr th {\n",
       "        vertical-align: top;\n",
       "    }\n",
       "\n",
       "    .dataframe thead th {\n",
       "        text-align: right;\n",
       "    }\n",
       "</style>\n",
       "<table border=\"1\" class=\"dataframe\">\n",
       "  <thead>\n",
       "    <tr style=\"text-align: right;\">\n",
       "      <th></th>\n",
       "      <th>0</th>\n",
       "      <th>1</th>\n",
       "      <th>2</th>\n",
       "      <th>3</th>\n",
       "      <th>4</th>\n",
       "      <th>5</th>\n",
       "      <th>6</th>\n",
       "      <th>7</th>\n",
       "      <th>8</th>\n",
       "      <th>9</th>\n",
       "      <th>...</th>\n",
       "      <th>551</th>\n",
       "      <th>552</th>\n",
       "      <th>553</th>\n",
       "      <th>554</th>\n",
       "      <th>555</th>\n",
       "      <th>556</th>\n",
       "      <th>557</th>\n",
       "      <th>558</th>\n",
       "      <th>559</th>\n",
       "      <th>560</th>\n",
       "    </tr>\n",
       "  </thead>\n",
       "  <tbody>\n",
       "    <tr>\n",
       "      <th>0</th>\n",
       "      <td>0.288585</td>\n",
       "      <td>-0.020294</td>\n",
       "      <td>-0.132905</td>\n",
       "      <td>-0.995279</td>\n",
       "      <td>-0.983111</td>\n",
       "      <td>-0.913526</td>\n",
       "      <td>-0.995112</td>\n",
       "      <td>-0.983185</td>\n",
       "      <td>-0.923527</td>\n",
       "      <td>-0.934724</td>\n",
       "      <td>...</td>\n",
       "      <td>-0.074323</td>\n",
       "      <td>-0.298676</td>\n",
       "      <td>-0.710304</td>\n",
       "      <td>-0.112754</td>\n",
       "      <td>0.030400</td>\n",
       "      <td>-0.464761</td>\n",
       "      <td>-0.018446</td>\n",
       "      <td>-0.841247</td>\n",
       "      <td>0.179941</td>\n",
       "      <td>-0.058627</td>\n",
       "    </tr>\n",
       "    <tr>\n",
       "      <th>1</th>\n",
       "      <td>0.278419</td>\n",
       "      <td>-0.016411</td>\n",
       "      <td>-0.123520</td>\n",
       "      <td>-0.998245</td>\n",
       "      <td>-0.975300</td>\n",
       "      <td>-0.960322</td>\n",
       "      <td>-0.998807</td>\n",
       "      <td>-0.974914</td>\n",
       "      <td>-0.957686</td>\n",
       "      <td>-0.943068</td>\n",
       "      <td>...</td>\n",
       "      <td>0.158075</td>\n",
       "      <td>-0.595051</td>\n",
       "      <td>-0.861499</td>\n",
       "      <td>0.053477</td>\n",
       "      <td>-0.007435</td>\n",
       "      <td>-0.732626</td>\n",
       "      <td>0.703511</td>\n",
       "      <td>-0.844788</td>\n",
       "      <td>0.180289</td>\n",
       "      <td>-0.054317</td>\n",
       "    </tr>\n",
       "    <tr>\n",
       "      <th>2</th>\n",
       "      <td>0.279653</td>\n",
       "      <td>-0.019467</td>\n",
       "      <td>-0.113462</td>\n",
       "      <td>-0.995380</td>\n",
       "      <td>-0.967187</td>\n",
       "      <td>-0.978944</td>\n",
       "      <td>-0.996520</td>\n",
       "      <td>-0.963668</td>\n",
       "      <td>-0.977469</td>\n",
       "      <td>-0.938692</td>\n",
       "      <td>...</td>\n",
       "      <td>0.414503</td>\n",
       "      <td>-0.390748</td>\n",
       "      <td>-0.760104</td>\n",
       "      <td>-0.118559</td>\n",
       "      <td>0.177899</td>\n",
       "      <td>0.100699</td>\n",
       "      <td>0.808529</td>\n",
       "      <td>-0.848933</td>\n",
       "      <td>0.180637</td>\n",
       "      <td>-0.049118</td>\n",
       "    </tr>\n",
       "    <tr>\n",
       "      <th>3</th>\n",
       "      <td>0.279174</td>\n",
       "      <td>-0.026201</td>\n",
       "      <td>-0.123283</td>\n",
       "      <td>-0.996091</td>\n",
       "      <td>-0.983403</td>\n",
       "      <td>-0.990675</td>\n",
       "      <td>-0.997099</td>\n",
       "      <td>-0.982750</td>\n",
       "      <td>-0.989302</td>\n",
       "      <td>-0.938692</td>\n",
       "      <td>...</td>\n",
       "      <td>0.404573</td>\n",
       "      <td>-0.117290</td>\n",
       "      <td>-0.482845</td>\n",
       "      <td>-0.036788</td>\n",
       "      <td>-0.012892</td>\n",
       "      <td>0.640011</td>\n",
       "      <td>-0.485366</td>\n",
       "      <td>-0.848649</td>\n",
       "      <td>0.181935</td>\n",
       "      <td>-0.047663</td>\n",
       "    </tr>\n",
       "    <tr>\n",
       "      <th>4</th>\n",
       "      <td>0.276629</td>\n",
       "      <td>-0.016570</td>\n",
       "      <td>-0.115362</td>\n",
       "      <td>-0.998139</td>\n",
       "      <td>-0.980817</td>\n",
       "      <td>-0.990482</td>\n",
       "      <td>-0.998321</td>\n",
       "      <td>-0.979672</td>\n",
       "      <td>-0.990441</td>\n",
       "      <td>-0.942469</td>\n",
       "      <td>...</td>\n",
       "      <td>0.087753</td>\n",
       "      <td>-0.351471</td>\n",
       "      <td>-0.699205</td>\n",
       "      <td>0.123320</td>\n",
       "      <td>0.122542</td>\n",
       "      <td>0.693578</td>\n",
       "      <td>-0.615971</td>\n",
       "      <td>-0.847865</td>\n",
       "      <td>0.185151</td>\n",
       "      <td>-0.043892</td>\n",
       "    </tr>\n",
       "  </tbody>\n",
       "</table>\n",
       "<p>5 rows × 561 columns</p>\n",
       "</div>"
      ],
      "text/plain": [
       "        0         1         2         3         4         5         6    \\\n",
       "0  0.288585 -0.020294 -0.132905 -0.995279 -0.983111 -0.913526 -0.995112   \n",
       "1  0.278419 -0.016411 -0.123520 -0.998245 -0.975300 -0.960322 -0.998807   \n",
       "2  0.279653 -0.019467 -0.113462 -0.995380 -0.967187 -0.978944 -0.996520   \n",
       "3  0.279174 -0.026201 -0.123283 -0.996091 -0.983403 -0.990675 -0.997099   \n",
       "4  0.276629 -0.016570 -0.115362 -0.998139 -0.980817 -0.990482 -0.998321   \n",
       "\n",
       "        7         8         9    ...       551       552       553       554  \\\n",
       "0 -0.983185 -0.923527 -0.934724  ... -0.074323 -0.298676 -0.710304 -0.112754   \n",
       "1 -0.974914 -0.957686 -0.943068  ...  0.158075 -0.595051 -0.861499  0.053477   \n",
       "2 -0.963668 -0.977469 -0.938692  ...  0.414503 -0.390748 -0.760104 -0.118559   \n",
       "3 -0.982750 -0.989302 -0.938692  ...  0.404573 -0.117290 -0.482845 -0.036788   \n",
       "4 -0.979672 -0.990441 -0.942469  ...  0.087753 -0.351471 -0.699205  0.123320   \n",
       "\n",
       "        555       556       557       558       559       560  \n",
       "0  0.030400 -0.464761 -0.018446 -0.841247  0.179941 -0.058627  \n",
       "1 -0.007435 -0.732626  0.703511 -0.844788  0.180289 -0.054317  \n",
       "2  0.177899  0.100699  0.808529 -0.848933  0.180637 -0.049118  \n",
       "3 -0.012892  0.640011 -0.485366 -0.848649  0.181935 -0.047663  \n",
       "4  0.122542  0.693578 -0.615971 -0.847865  0.185151 -0.043892  \n",
       "\n",
       "[5 rows x 561 columns]"
      ]
     },
     "execution_count": 8,
     "metadata": {},
     "output_type": "execute_result"
    }
   ],
   "source": [
    "X.head(5)"
   ]
  },
  {
   "cell_type": "code",
   "execution_count": 9,
   "metadata": {},
   "outputs": [],
   "source": [
    "scaler = preprocessing.StandardScaler()\n",
    "X_sc = scaler.fit_transform(X)"
   ]
  },
  {
   "cell_type": "code",
   "execution_count": 11,
   "metadata": {},
   "outputs": [
    {
     "name": "stdout",
     "output_type": "stream",
     "text": [
      "27\n"
     ]
    }
   ],
   "source": [
    "pca = decomposition.PCA(n_components=0.8, random_state=42)\n",
    "X_pca = pca.fit_transform(X_sc)\n",
    "print(len(pca.explained_variance_ratio_))"
   ]
  },
  {
   "cell_type": "code",
   "execution_count": null,
   "metadata": {},
   "outputs": [],
   "source": [
    "#Выше я масштабировал выборку и сократил количество столбцов до 27 при помощи PCA, задав дисперсию 80%."
   ]
  },
  {
   "cell_type": "code",
   "execution_count": 13,
   "metadata": {},
   "outputs": [
    {
     "data": {
      "text/plain": [
       "(10299, 27)"
      ]
     },
     "execution_count": 13,
     "metadata": {},
     "output_type": "execute_result"
    }
   ],
   "source": [
    "X_pca.shape"
   ]
  },
  {
   "cell_type": "code",
   "execution_count": 19,
   "metadata": {},
   "outputs": [],
   "source": [
    "from sklearn.model_selection import train_test_split\n",
    "\n",
    "X_tr, X_ts, y_tr, y_ts = train_test_split(X_pca, y, test_size=0.3 )"
   ]
  },
  {
   "cell_type": "code",
   "execution_count": 71,
   "metadata": {
    "scrolled": true
   },
   "outputs": [],
   "source": [
    "from sklearn.tree import DecisionTreeClassifier\n",
    "from sklearn.ensemble import BaggingClassifier"
   ]
  },
  {
   "cell_type": "code",
   "execution_count": 55,
   "metadata": {
    "collapsed": true
   },
   "outputs": [
    {
     "name": "stderr",
     "output_type": "stream",
     "text": [
      "c:\\users\\альберт\\appdata\\local\\programs\\python\\python37\\lib\\site-packages\\sklearn\\ensemble\\bagging.py:622: DataConversionWarning: A column-vector y was passed when a 1d array was expected. Please change the shape of y to (n_samples, ), for example using ravel().\n",
      "  y = column_or_1d(y, warn=True)\n"
     ]
    },
    {
     "data": {
      "text/plain": [
       "GridSearchCV(cv=5, error_score='raise-deprecating',\n",
       "       estimator=BaggingClassifier(base_estimator=None, bootstrap=True,\n",
       "         bootstrap_features=False, max_features=1.0, max_samples=1.0,\n",
       "         n_estimators=100, n_jobs=-1, oob_score=False, random_state=None,\n",
       "         verbose=0, warm_start=False),\n",
       "       fit_params=None, iid='warn', n_jobs=-1,\n",
       "       param_grid={'base_estimator': [DecisionTreeClassifier(class_weight=None, criterion='gini', max_depth=1,\n",
       "            max_features=None, max_leaf_nodes=None,\n",
       "            min_impurity_decrease=0.0, min_impurity_split=None,\n",
       "            min_samples_leaf=1, min_samples_split=2,\n",
       "            min_weight_frac...      min_weight_fraction_leaf=0.0, presort=False, random_state=None,\n",
       "            splitter='best')]},\n",
       "       pre_dispatch='2*n_jobs', refit=True, return_train_score='warn',\n",
       "       scoring=None, verbose=0)"
      ]
     },
     "execution_count": 55,
     "metadata": {},
     "output_type": "execute_result"
    }
   ],
   "source": [
    "# Найдем лучшее значение параметра глубины деревьев max_depth, взяв 100 деревьев : \n",
    "from sklearn.model_selection import GridSearchCV\n",
    "max_depths = np.arange(1,8)\n",
    "clf = BaggingClassifier( n_estimators=100, n_jobs=-1)\n",
    "parameters = {\n",
    "                 \"base_estimator\" : [ DecisionTreeClassifier(max_depth=depth) for depth in max_depths ] \n",
    "             }\n",
    "grid = GridSearchCV(clf,\n",
    "                    parameters, n_jobs=-1,\n",
    "                    cv=5)\n",
    "\n",
    "grid.fit(X_tr, y_tr)"
   ]
  },
  {
   "cell_type": "code",
   "execution_count": 56,
   "metadata": {},
   "outputs": [
    {
     "data": {
      "text/plain": [
       "BaggingClassifier(base_estimator=DecisionTreeClassifier(class_weight=None, criterion='gini', max_depth=7,\n",
       "            max_features=None, max_leaf_nodes=None,\n",
       "            min_impurity_decrease=0.0, min_impurity_split=None,\n",
       "            min_samples_leaf=1, min_samples_split=2,\n",
       "            min_weight_fraction_leaf=0.0, presort=False, random_state=None,\n",
       "            splitter='best'),\n",
       "         bootstrap=True, bootstrap_features=False, max_features=1.0,\n",
       "         max_samples=1.0, n_estimators=100, n_jobs=-1, oob_score=False,\n",
       "         random_state=None, verbose=0, warm_start=False)"
      ]
     },
     "execution_count": 56,
     "metadata": {},
     "output_type": "execute_result"
    }
   ],
   "source": [
    "grid.best_estimator_"
   ]
  },
  {
   "cell_type": "code",
   "execution_count": 58,
   "metadata": {},
   "outputs": [
    {
     "data": {
      "image/png": "[encoded data removed]",
      "text/plain": [
       "<Figure size 432x288 with 1 Axes>"
      ]
     },
     "metadata": {
      "needs_background": "light"
     },
     "output_type": "display_data"
    }
   ],
   "source": [
    "import matplotlib.pyplot as plt\n",
    "plt.plot(max_depths, grid.cv_results_['mean_test_score'], 'o-', color=\"r\")\n",
    "plt.xlabel('mean_test_score')\n",
    "plt.ylabel('max_depth')\n",
    "plt.show()\n",
    "#На графике видно что при глубине = 7, классификатор достиг своей околомаксимальной точности и не будет сильно улучшаться при\n",
    "#при дальнейшем увеличении глубины деревьев\n"
   ]
  },
  {
   "cell_type": "code",
   "execution_count": 65,
   "metadata": {},
   "outputs": [
    {
     "name": "stdout",
     "output_type": "stream",
     "text": [
      "Wall time: 1min 5s\n"
     ]
    },
    {
     "data": {
      "text/plain": [
       "GridSearchCV(cv=5, error_score='raise-deprecating',\n",
       "       estimator=BaggingClassifier(base_estimator=DecisionTreeClassifier(class_weight=None, criterion='gini', max_depth=7,\n",
       "            max_features=None, max_leaf_nodes=None,\n",
       "            min_impurity_decrease=0.0, min_impurity_split=None,\n",
       "            min_samples_leaf=1, min_samples_split=2,\n",
       "            min..._estimators=10, n_jobs=-1, oob_score=False,\n",
       "         random_state=None, verbose=0, warm_start=False),\n",
       "       fit_params=None, iid='warn', n_jobs=-1,\n",
       "       param_grid={'n_estimators': [10, 20, 30, 40, 50, 60, 70, 80, 90, 100]},\n",
       "       pre_dispatch='2*n_jobs', refit=True, return_train_score='warn',\n",
       "       scoring=None, verbose=0)"
      ]
     },
     "execution_count": 65,
     "metadata": {},
     "output_type": "execute_result"
    }
   ],
   "source": [
    "# теперь найдем лучшее количесво дерельев при глубине дерева =7\n",
    "%%time\n",
    "from sklearn.model_selection import GridSearchCV\n",
    "n_estim = np.arange(1,11)\n",
    "clf = BaggingClassifier( base_estimator=DecisionTreeClassifier(max_depth=7), n_jobs=-1 )\n",
    "parameters = {\n",
    "                 \"n_estimators\" : [ x*10 for x in n_estim ] \n",
    "             }\n",
    "grid = GridSearchCV(clf,\n",
    "                    parameters, n_jobs=-1,\n",
    "                    cv=5)\n",
    "\n",
    "grid.fit(X_tr, np.ravel(y_tr))"
   ]
  },
  {
   "cell_type": "code",
   "execution_count": 66,
   "metadata": {},
   "outputs": [
    {
     "data": {
      "image/png": "[encoded data removed]",
      "text/plain": [
       "<Figure size 432x288 with 1 Axes>"
      ]
     },
     "metadata": {
      "needs_background": "light"
     },
     "output_type": "display_data"
    }
   ],
   "source": [
    "import matplotlib.pyplot as plt\n",
    "plt.plot(n_estim, grid.cv_results_['mean_test_score'], 'o-', color=\"r\")\n",
    "plt.xlabel('n_estimators *10')\n",
    "plt.ylabel('mean_test_score')\n",
    "plt.show()\n",
    "# Результаты для точности алгоритма BaggingClassifier для кол-ва деревьев = 10,20,30 ... 100.\n",
    "# график показывает, что больше десяти деревьев брать не нужно, сильно в качестве не потеряем. "
   ]
  },
  {
   "cell_type": "code",
   "execution_count": 69,
   "metadata": {},
   "outputs": [
    {
     "name": "stdout",
     "output_type": "stream",
     "text": [
      "Wall time: 1min 1s\n"
     ]
    },
    {
     "data": {
      "text/plain": [
       "GridSearchCV(cv=5, error_score='raise-deprecating',\n",
       "       estimator=BaggingClassifier(base_estimator=DecisionTreeClassifier(class_weight=None, criterion='gini', max_depth=7,\n",
       "            max_features=None, max_leaf_nodes=None,\n",
       "            min_impurity_decrease=0.0, min_impurity_split=None,\n",
       "            min_samples_leaf=1, min_samples_split=2,\n",
       "            min..._estimators=10, n_jobs=-1, oob_score=False,\n",
       "         random_state=None, verbose=0, warm_start=False),\n",
       "       fit_params=None, iid='warn', n_jobs=-1,\n",
       "       param_grid={'n_estimators': [10, 20, 30, 40, 50, 60, 70, 80, 90, 100]},\n",
       "       pre_dispatch='2*n_jobs', refit=True, return_train_score='warn',\n",
       "       scoring=None, verbose=0)"
      ]
     },
     "execution_count": 69,
     "metadata": {},
     "output_type": "execute_result"
    }
   ],
   "source": [
    "%%time\n",
    "from sklearn.ensemble import AdaBoostClassifier\n",
    "model = AdaBoostClassifier( base_estimator=DecisionTreeClassifier(max_depth=7),learning_rate=1 )\n",
    "parameters = {\n",
    "                 \"n_estimators\" : [ x*10 for x in n_estim ] \n",
    "             }\n",
    "grid = GridSearchCV(clf,\n",
    "                    parameters, n_jobs=-1,\n",
    "                    cv=5)\n",
    "\n",
    "grid.fit(X_tr, np.ravel(y_tr))"
   ]
  },
  {
   "cell_type": "code",
   "execution_count": 70,
   "metadata": {},
   "outputs": [
    {
     "data": {
      "image/png": "[encoded data removed]",
      "text/plain": [
       "<Figure size 432x288 with 1 Axes>"
      ]
     },
     "metadata": {
      "needs_background": "light"
     },
     "output_type": "display_data"
    }
   ],
   "source": [
    "import matplotlib.pyplot as plt\n",
    "plt.plot(n_estim, grid.cv_results_['mean_test_score'], 'o-', color=\"r\")\n",
    "plt.xlabel('n_estimators *10')\n",
    "plt.ylabel('mean_test_score')\n",
    "plt.show()\n",
    "# Результаты точности алгоритма AdaBoost для кол-ва деревьев = 10,20,30 ... 100   "
   ]
  },
  {
   "cell_type": "markdown",
   "metadata": {},
   "source": [
    "Вывод: на данной выборке время обучения для GridSearch по кол-ву деревьев = 10,20,30 ... 100 у алгоритмов \n",
    "BaggingCls и AdaBoostCls одиннаковое = 1 мин. При этом точность приблизительно равна 0.86 в обоих случаях.\n",
    "Так что можно сказать что алгоритмы работают одиннаково хорошо. Нужно использовать тот, который потребляет меньше вычислительных ресурсов.\n",
    "\n"
   ]
  },
  {
   "cell_type": "markdown",
   "metadata": {},
   "source": [
    "\n",
    "\n",
    "\n",
    "# Clusterisation"
   ]
  },
  {
   "cell_type": "code",
   "execution_count": 86,
   "metadata": {},
   "outputs": [],
   "source": [
    "from sklearn import cluster, datasets, metrics"
   ]
  },
  {
   "cell_type": "code",
   "execution_count": 73,
   "metadata": {},
   "outputs": [],
   "source": [
    "from sklearn.datasets import load_breast_cancer\n",
    "data = load_breast_cancer()\n",
    "X = data.data\n",
    "y = data.target"
   ]
  },
  {
   "cell_type": "code",
   "execution_count": 77,
   "metadata": {},
   "outputs": [],
   "source": [
    "X = scaler.fit_transform(X)"
   ]
  },
  {
   "cell_type": "markdown",
   "metadata": {},
   "source": [
    "# Метод к-средних:"
   ]
  },
  {
   "cell_type": "markdown",
   "metadata": {},
   "source": [
    "Метод к-средних:\n",
    "\n",
    "Как выбрать число кластеров? В случае kMeans распространен вот такой критерий – сумма квадратов расстояний от точек до центроидов кластеров, к которым они относятся. Это называется инерция. Минимум такого функционала будет достигаться тогда, когда кластеров столько же, сколько и точек (то есть каждая точка – это кластер из одного элемента). Для решения этого вопроса (выбора числа кластеров) часто пользуются такой эвристикой: выбирают то число кластеров, начиная с которого описанный функционал падает \"уже не так быстро\"."
   ]
  },
  {
   "cell_type": "code",
   "execution_count": 80,
   "metadata": {},
   "outputs": [],
   "source": [
    "from sklearn.cluster import KMeans\n",
    "\n",
    "inertia = []\n",
    "for k in range(1, 6 + 1):\n",
    "    kmeans = KMeans(n_clusters=k, n_init=100, random_state=41).fit(X)\n",
    "    inertia.append(np.sqrt(kmeans.inertia_))"
   ]
  },
  {
   "cell_type": "code",
   "execution_count": 81,
   "metadata": {},
   "outputs": [
    {
     "data": {
      "text/plain": [
       "[<matplotlib.lines.Line2D at 0x1a20c748>]"
      ]
     },
     "execution_count": 81,
     "metadata": {},
     "output_type": "execute_result"
    },
    {
     "data": {
      "image/png": "[encoded data removed]",
      "text/plain": [
       "<Figure size 432x288 with 1 Axes>"
      ]
     },
     "metadata": {
      "needs_background": "light"
     },
     "output_type": "display_data"
    }
   ],
   "source": [
    "# Из данного графика (и еще потому, что мы на самом деле знаем сколько кластеров нужно взять:) ) видно что нужно взять\n",
    "# 2 кластера, т.к после 2-ух наклон резко меняется\n",
    "plt.plot(np.arange(1,7),inertia,marker='o')"
   ]
  },
  {
   "cell_type": "code",
   "execution_count": 82,
   "metadata": {},
   "outputs": [],
   "source": [
    "kmeans = KMeans(n_clusters=k, n_init=100, random_state=41).fit(X)\n",
    "km_pred = kmeans.predict(X)"
   ]
  },
  {
   "cell_type": "code",
   "execution_count": null,
   "metadata": {},
   "outputs": [],
   "source": []
  },
  {
   "cell_type": "markdown",
   "metadata": {},
   "source": [
    "# Агломеративная кластеризация"
   ]
  },
  {
   "cell_type": "markdown",
   "metadata": {},
   "source": [
    "Агломеративная кластеризация\n",
    "Интуиция у алгоритма очень простая:\n",
    "\n",
    "1 Начинаем с того, что высыпаем на каждую точку свой кластер 2 Сортируем попарные расстояния между центрами кластеров по возрастанию 3 Берём пару ближайших кластеров, склеиваем их в один и пересчитываем центр кластера 4 Повторяем п. 2 и 3 до тех пор, пока все данные не склеятся в один кластер\n",
    "\n",
    "метод объединения 'ward' минимизирует дисперсию кластеров, которые будут объединены."
   ]
  },
  {
   "cell_type": "code",
   "execution_count": 89,
   "metadata": {},
   "outputs": [
    {
     "name": "stdout",
     "output_type": "stream",
     "text": [
      "0.44621386691302517 homo 0.46814184767130673 complet 0.4569149200498728 v_meas 0.5750409366326297 adjust\n",
      "0.005271300463796284 homo 0.14893524229349667 complet 0.010182219220269649 v_meas 0.004828344696591908 adjust\n",
      "0.007918894825244964 homo 0.1588693907145255 complet 0.015085831621179305 v_meas 0.007276182817303723 adjust\n",
      "0.005271300463796284 homo 0.14893524229349667 complet 0.010182219220269649 v_meas 0.004828344696591908 adjust\n"
     ]
    }
   ],
   "source": [
    "# Для агломеративной кластеризации подберем метод связи, по которому будет происходить объединение:\n",
    "from sklearn.cluster import AgglomerativeClustering\n",
    "\n",
    "for link in ['ward', 'complete', 'average', 'single']:\n",
    "    ag = AgglomerativeClustering(n_clusters=2,\n",
    "                                 linkage=link)\n",
    "    ag_pred = ag.fit_predict(X)\n",
    "\n",
    "    print (metrics.homogeneity_score(y, ag_pred),'homo',\n",
    "        metrics.completeness_score(y, ag_pred),'complet',\n",
    "        metrics.v_measure_score(y, ag_pred),'v_meas',\n",
    "        metrics.adjusted_rand_score(y, ag_pred),'adjust', )\n",
    "# как видим, вариант \"ward\" сильно лучше всех сотальных:"
   ]
  },
  {
   "cell_type": "markdown",
   "metadata": {},
   "source": []
  },
  {
   "cell_type": "markdown",
   "metadata": {},
   "source": [
    "# Affinity propagation"
   ]
  },
  {
   "cell_type": "markdown",
   "metadata": {},
   "source": [
    "Affinity propagation\n",
    "Ещё один пример алгоритма кластеризации. В отличие от алгоритма К-средних, данный подход не требует заранее определять число кластеров, на которое мы хотим разбить наши данные. Основная идея алгоритма заключается в том, что нам хотелось бы, чтобы наши наблюдения кластеризовались в группы на основе того, как они \"общаются\", или насколько они похожи друг на друга.\n",
    "\n",
    "Заведём для этого какую-нибудь метрику \"похожести\", определяющуюся тем, что если наблюдение больше похоже на наблюдение , чем на . Простым примером такой похожести будет отрицательный квадрат расстояния."
   ]
  },
  {
   "cell_type": "code",
   "execution_count": 93,
   "metadata": {},
   "outputs": [
    {
     "name": "stdout",
     "output_type": "stream",
     "text": [
      "0.8218642287520984 homo 0.15416120635702626 complet 0.25962352292990154 v_meas 0.04855359904817497 adjust\n",
      "0.7972669352908363 homo 0.15102648232470053 complet 0.25394760413614176 v_meas 0.047330244822851315 adjust\n",
      "0.836432421434995 homo 0.1588154792569266 complet 0.2669453827209838 v_meas 0.052990065407262206 adjust\n",
      "0.836589073994439 homo 0.15765940802624717 complet 0.26531825907167006 v_meas 0.051541178544626885 adjust\n",
      "0.8376396811891151 homo 0.15815538925833839 complet 0.2660732790676846 v_meas 0.05171298477322104 adjust\n"
     ]
    }
   ],
   "source": [
    "from sklearn.cluster import AffinityPropagation\n",
    "\n",
    "for num in [ 0.5, 0.6, 0.7, 0.8, 0.9]:\n",
    "    AP = AffinityPropagation(damping=num)\n",
    "    AP.fit(X)\n",
    "    AP_pred = AP.predict(X)\n",
    "    print (metrics.homogeneity_score(y, AP_pred),'homo',\n",
    "        metrics.completeness_score(y, AP_pred),'complet',\n",
    "        metrics.v_measure_score(y, AP_pred),'v_meas',\n",
    "        metrics.adjusted_rand_score(y, AP_pred),'adjust', )"
   ]
  },
  {
   "cell_type": "code",
   "execution_count": 94,
   "metadata": {},
   "outputs": [],
   "source": [
    "AP = AffinityPropagation(damping=0.7)\n",
    "AP.fit(X)\n",
    "AP_pred = AP.predict(X)"
   ]
  },
  {
   "cell_type": "code",
   "execution_count": 96,
   "metadata": {},
   "outputs": [
    {
     "data": {
      "text/plain": [
       "array([ 0,  1,  2,  3,  4,  5,  6,  7,  8,  9, 10, 11, 12, 13, 14, 15, 16,\n",
       "       17, 18, 19, 20, 21, 22, 23, 24, 25, 26, 27, 28, 29, 30, 31, 32, 33,\n",
       "       34, 35, 36, 37, 38, 39, 40, 41, 42, 43, 44, 45, 46, 47, 48],\n",
       "      dtype=int64)"
      ]
     },
     "execution_count": 96,
     "metadata": {},
     "output_type": "execute_result"
    }
   ],
   "source": [
    "# сколько кластеров получилось:\n",
    "np.unique(AP_pred)"
   ]
  },
  {
   "cell_type": "markdown",
   "metadata": {},
   "source": [
    "# MeanShift"
   ]
  },
  {
   "cell_type": "markdown",
   "metadata": {},
   "source": [
    "Сдвиг среднего значения — это непараметрическая техника анализа пространства признаков для определения местоположения максимума плотности вероятности, так называемый алгоритм поиска моды. Область применения техники — кластерный анализ в компьютерном зрении и обработке изображений. MeanShift группирует объекты с близкими признаками. Пиксели со схожими признаками объединяются в один сегмент, на выходе получаем изображение с однородными областями.Чтобы легче было описывать сгущения точек, вводится функция плотности."
   ]
  },
  {
   "cell_type": "code",
   "execution_count": 98,
   "metadata": {},
   "outputs": [],
   "source": [
    "from sklearn.cluster import MeanShift\n",
    "MS = MeanShift()\n",
    "MS.fit(X)\n",
    "MS_pred = MS.predict(X)"
   ]
  },
  {
   "cell_type": "code",
   "execution_count": 99,
   "metadata": {},
   "outputs": [
    {
     "data": {
      "text/plain": [
       "array([ 0,  1,  2,  3,  4,  5,  6,  7,  8,  9, 10, 11, 12, 13],\n",
       "      dtype=int64)"
      ]
     },
     "execution_count": 99,
     "metadata": {},
     "output_type": "execute_result"
    }
   ],
   "source": [
    "# сколько кластеров получилось:\n",
    "np.unique(MS_pred)"
   ]
  },
  {
   "cell_type": "markdown",
   "metadata": {},
   "source": [
    "\n",
    "\n",
    "\n",
    "\n"
   ]
  },
  {
   "cell_type": "code",
   "execution_count": 101,
   "metadata": {},
   "outputs": [
    {
     "data": {
      "text/html": [
       "<div>\n",
       "<style scoped>\n",
       "    .dataframe tbody tr th:only-of-type {\n",
       "        vertical-align: middle;\n",
       "    }\n",
       "\n",
       "    .dataframe tbody tr th {\n",
       "        vertical-align: top;\n",
       "    }\n",
       "\n",
       "    .dataframe thead th {\n",
       "        text-align: right;\n",
       "    }\n",
       "</style>\n",
       "<table border=\"1\" class=\"dataframe\">\n",
       "  <thead>\n",
       "    <tr style=\"text-align: right;\">\n",
       "      <th></th>\n",
       "      <th>ARI</th>\n",
       "      <th>Homogenity</th>\n",
       "      <th>Completeness</th>\n",
       "      <th>V-measure</th>\n",
       "    </tr>\n",
       "  </thead>\n",
       "  <tbody>\n",
       "    <tr>\n",
       "      <th>K-means</th>\n",
       "      <td>0.332706</td>\n",
       "      <td>0.690673</td>\n",
       "      <td>0.294953</td>\n",
       "      <td>0.413374</td>\n",
       "    </tr>\n",
       "    <tr>\n",
       "      <th>Aglomerative</th>\n",
       "      <td>0.004828</td>\n",
       "      <td>0.005271</td>\n",
       "      <td>0.148935</td>\n",
       "      <td>0.010182</td>\n",
       "    </tr>\n",
       "    <tr>\n",
       "      <th>Affinity</th>\n",
       "      <td>0.052990</td>\n",
       "      <td>0.836432</td>\n",
       "      <td>0.158815</td>\n",
       "      <td>0.266945</td>\n",
       "    </tr>\n",
       "    <tr>\n",
       "      <th>MeanShift</th>\n",
       "      <td>0.127887</td>\n",
       "      <td>0.162813</td>\n",
       "      <td>0.175030</td>\n",
       "      <td>0.168700</td>\n",
       "    </tr>\n",
       "  </tbody>\n",
       "</table>\n",
       "</div>"
      ],
      "text/plain": [
       "                   ARI  Homogenity  Completeness  V-measure\n",
       "K-means       0.332706    0.690673      0.294953   0.413374\n",
       "Aglomerative  0.004828    0.005271      0.148935   0.010182\n",
       "Affinity      0.052990    0.836432      0.158815   0.266945\n",
       "MeanShift     0.127887    0.162813      0.175030   0.168700"
      ]
     },
     "execution_count": 101,
     "metadata": {},
     "output_type": "execute_result"
    }
   ],
   "source": [
    "import pandas as pd\n",
    "\n",
    "clust = [km_pred, ag_pred, AP_pred, MS_pred]\n",
    "data=[]\n",
    "for x in clust:\n",
    "\n",
    "    data.append(({\n",
    "        'ARI': metrics.adjusted_rand_score(y, x),\n",
    "        'Homogenity': metrics.homogeneity_score(y, x),\n",
    "        'Completeness': metrics.completeness_score(y, x),\n",
    "        'V-measure': metrics.v_measure_score(y, x)}))\n",
    "\n",
    "results = pd.DataFrame(data=data, columns=['ARI', 'Homogenity',\n",
    "                                           'Completeness', 'V-measure'],\n",
    "                       index=['K-means', 'Aglomerative', \n",
    "                              'Affinity', 'MeanShift'])\n",
    "\n",
    "results\n",
    "#Сводная таблица по наилучшим параметрам:"
   ]
  },
  {
   "cell_type": "markdown",
   "metadata": {},
   "source": [
    "# Вывод:"
   ]
  },
  {
   "cell_type": "markdown",
   "metadata": {},
   "source": [
    "По итоговой таблице видно, что для данного датасета лучшим почти по всем метрикам является K-means, но он требует указания кластеров и это его минус. Affinity Propagation же кластеризовал данные на 49 кластеров!. MeanShift на 14, и это все далеко от правды. Еще k-means ресурсозатратный и не подходит для больших выборок. Подбор алгоритма класт-ии и параметров для него требуют понимания сути задачи и изучения пространства признаков."
   ]
  },
  {
   "cell_type": "code",
   "execution_count": null,
   "metadata": {},
   "outputs": [],
   "source": []
  }
 ],
 "metadata": {
  "kernelspec": {
   "display_name": "Python 3",
   "language": "python",
   "name": "python3"
  },
  "language_info": {
   "codemirror_mode": {
    "name": "ipython",
    "version": 3
   },
   "file_extension": ".py",
   "mimetype": "text/x-python",
   "name": "python",
   "nbconvert_exporter": "python",
   "pygments_lexer": "ipython3",
   "version": "3.7.0"
  }
 },
 "nbformat": 4,
 "nbformat_minor": 2
}
